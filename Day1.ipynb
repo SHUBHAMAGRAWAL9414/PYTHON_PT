{
  "nbformat": 4,
  "nbformat_minor": 0,
  "metadata": {
    "colab": {
      "provenance": []
    },
    "kernelspec": {
      "name": "python3",
      "display_name": "Python 3"
    },
    "language_info": {
      "name": "python"
    }
  },
  "cells": [
    {
      "cell_type": "code",
      "execution_count": 7,
      "metadata": {
        "colab": {
          "base_uri": "https://localhost:8080/"
        },
        "id": "knkb5-QyRVK4",
        "outputId": "33637a61-3a12-4219-bf6a-de4d7c236200"
      },
      "outputs": [
        {
          "output_type": "stream",
          "name": "stdout",
          "text": [
            "135634846515728\n",
            "135634846515728\n",
            "Shubham\n",
            "<class 'int'>\n",
            "<class 'complex'>\n",
            "(3+2j)\n"
          ]
        }
      ],
      "source": [
        "a=10\n",
        "b=\"Shubham\"\n",
        "c=10\n",
        "d=3+2j\n",
        "print(id(a))\n",
        "print(id(c))\n",
        "print(b)\n",
        "print(type(a))\n",
        "print(type(d))\n",
        "print(d)"
      ]
    },
    {
      "cell_type": "code",
      "source": [
        "print(int(3.5))\n",
        "print(int(\"5\"))\n",
        "# print(int(\"3.5\"))\n",
        "#print(int(6+2j))\n",
        "print(int(\"5\"))\n",
        "#print(int(\"five\"))"
      ],
      "metadata": {
        "colab": {
          "base_uri": "https://localhost:8080/"
        },
        "id": "Cbs_886ZSB5P",
        "outputId": "fc753f67-1453-4d25-8203-ae4ada88545f"
      },
      "execution_count": 10,
      "outputs": [
        {
          "output_type": "stream",
          "name": "stdout",
          "text": [
            "3\n",
            "5\n",
            "5\n"
          ]
        }
      ]
    },
    {
      "cell_type": "code",
      "source": [
        "a=2\n",
        "b=3\n",
        "res=complex(a,b)\n",
        "print(res)\n",
        "print(complex(True))\n",
        "print(complex(3))\n",
        "print(complex(False))\n",
        "print(complex(True,False))"
      ],
      "metadata": {
        "colab": {
          "base_uri": "https://localhost:8080/"
        },
        "id": "cXbQEIeIUbQ1",
        "outputId": "5927cb15-585f-43db-f409-24c364c49ad8"
      },
      "execution_count": 11,
      "outputs": [
        {
          "output_type": "stream",
          "name": "stdout",
          "text": [
            "(2+3j)\n",
            "(1+0j)\n",
            "(3+0j)\n",
            "0j\n",
            "(1+0j)\n"
          ]
        }
      ]
    },
    {
      "cell_type": "markdown",
      "source": [],
      "metadata": {
        "id": "Tnvl1GkJUcL8"
      }
    },
    {
      "cell_type": "code",
      "source": [
        "list1=[\"Rahul\",\"Sonu\",\"Monu\"]\n",
        "print(\"Rahul\" in list1)\n",
        "print(\"Shubham\" in list1)"
      ],
      "metadata": {
        "colab": {
          "base_uri": "https://localhost:8080/"
        },
        "id": "hFqYS7vBVZDa",
        "outputId": "3d9aa329-3bec-4503-b7f6-d2fcf5a76284"
      },
      "execution_count": 12,
      "outputs": [
        {
          "output_type": "stream",
          "name": "stdout",
          "text": [
            "True\n",
            "False\n"
          ]
        }
      ]
    },
    {
      "cell_type": "code",
      "source": [
        "x=\"hello learning Python is very easy!\"\n",
        "print('h' in x)\n",
        "print('d' not in x)\n",
        "print('python' in x)"
      ],
      "metadata": {
        "colab": {
          "base_uri": "https://localhost:8080/"
        },
        "id": "jKfEVwajX4Re",
        "outputId": "243992f7-e6a6-4d20-dcd6-19e3d91c1d64"
      },
      "execution_count": 13,
      "outputs": [
        {
          "output_type": "stream",
          "name": "stdout",
          "text": [
            "True\n",
            "True\n",
            "False\n"
          ]
        }
      ]
    },
    {
      "cell_type": "code",
      "source": [
        "a=10\n",
        "b=10\n",
        "print(a is not b)\n",
        "x=True\n",
        "y=True\n",
        "print(x is y)"
      ],
      "metadata": {
        "colab": {
          "base_uri": "https://localhost:8080/"
        },
        "id": "PNYos4_OYTjq",
        "outputId": "5e3a2179-064a-49f4-b8db-4e63202bc6d3"
      },
      "execution_count": 14,
      "outputs": [
        {
          "output_type": "stream",
          "name": "stdout",
          "text": [
            "False\n",
            "True\n"
          ]
        }
      ]
    },
    {
      "cell_type": "code",
      "source": [
        "print(bool(True))\n",
        "print(bool(False))\n",
        "print(bool(\"5\"))\n",
        "print(bool(\"\"))"
      ],
      "metadata": {
        "id": "fPtPBCt3YhbS"
      },
      "execution_count": null,
      "outputs": []
    },
    {
      "cell_type": "code",
      "source": [
        "print(float (3.5))\n",
        "print(float(\"3.5\"))\n",
        "print(float (3))\n",
        "#print(float (6+2]))\n",
        "print(float (\"5\" ))\n",
        "#print (float (\"five\")"
      ],
      "metadata": {
        "colab": {
          "base_uri": "https://localhost:8080/"
        },
        "id": "hxsEQqMqZjl2",
        "outputId": "209b0cc1-d24f-48cc-ee66-ca4a1c340182"
      },
      "execution_count": 15,
      "outputs": [
        {
          "output_type": "stream",
          "name": "stdout",
          "text": [
            "3.5\n",
            "3.5\n",
            "3.0\n",
            "5.0\n"
          ]
        }
      ]
    },
    {
      "cell_type": "code",
      "source": [
        "import math\n",
        "r=5\n",
        "area=math.pi*(r**2)\n",
        "print(\"Area of cicle \",area)"
      ],
      "metadata": {
        "colab": {
          "base_uri": "https://localhost:8080/"
        },
        "id": "xMI9yznzZm38",
        "outputId": "c8ac2585-708a-486b-cc82-11f151d7c411"
      },
      "execution_count": 16,
      "outputs": [
        {
          "output_type": "stream",
          "name": "stdout",
          "text": [
            "Area of cicle  78.53981633974483\n"
          ]
        }
      ]
    },
    {
      "cell_type": "code",
      "source": [
        "import math as m\n",
        "r=5\n",
        "area=m.pi*(r**2)\n",
        "print(\"Area of cicle \",area)"
      ],
      "metadata": {
        "colab": {
          "base_uri": "https://localhost:8080/"
        },
        "id": "WGip1LDEaujo",
        "outputId": "32174afe-b11d-4d98-ffd2-adcac5bab23a"
      },
      "execution_count": 17,
      "outputs": [
        {
          "output_type": "stream",
          "name": "stdout",
          "text": [
            "Area of cicle  78.53981633974483\n"
          ]
        }
      ]
    },
    {
      "cell_type": "code",
      "source": [
        "a=input(\"Enter a value\")\n",
        "b=input(\"Enter b value\")\n",
        "print(\"Addition is \",a+b)"
      ],
      "metadata": {
        "colab": {
          "base_uri": "https://localhost:8080/"
        },
        "id": "BTMGY9fQazX2",
        "outputId": "a3229a03-00ca-4268-c340-47ec9d63d736"
      },
      "execution_count": 18,
      "outputs": [
        {
          "output_type": "stream",
          "name": "stdout",
          "text": [
            "Enter a value22\n",
            "Enter b value32\n",
            "Addition is  2232\n"
          ]
        }
      ]
    },
    {
      "cell_type": "code",
      "source": [
        "'''\n",
        "a=int(input(\"Enter a value\"))\n",
        "b=int(input(\"Enter b value\"))\n",
        "print(\"Addition is \",a+b)'''\n",
        "a=(input(\"Enter a value\"))\n",
        "b=(input(\"Enter b value\"))\n",
        "print(\"Addition is \",int(a)+int(b))"
      ],
      "metadata": {
        "colab": {
          "base_uri": "https://localhost:8080/"
        },
        "id": "l4Tp0XOcbULq",
        "outputId": "51235ae6-6634-4125-bc88-484324c7b67c"
      },
      "execution_count": 20,
      "outputs": [
        {
          "output_type": "stream",
          "name": "stdout",
          "text": [
            "Enter a value2\n",
            "Enter b value2\n",
            "Addition is  4\n"
          ]
        }
      ]
    },
    {
      "cell_type": "code",
      "source": [
        "print(\"Addition is \",int(input(\"Enter a value\"))+int(input(\"Enter b value\")))"
      ],
      "metadata": {
        "colab": {
          "base_uri": "https://localhost:8080/"
        },
        "id": "5SX94B2PbvIj",
        "outputId": "57f20577-f4b8-49dd-c7af-90c66ad3bfdc"
      },
      "execution_count": 22,
      "outputs": [
        {
          "output_type": "stream",
          "name": "stdout",
          "text": [
            "Enter a value2\n",
            "Enter b value2\n",
            "Addition is  4\n"
          ]
        }
      ]
    },
    {
      "cell_type": "code",
      "source": [
        "print(\"Hello \\n world\") #escape sequence operator\n",
        "print(\"Hello \\t world\")\n",
        "print(\"Hello\" + \"World\")\n",
        "print(\"Hello\"*3)\n",
        "print(\"Hello \\\\n world\")"
      ],
      "metadata": {
        "colab": {
          "base_uri": "https://localhost:8080/"
        },
        "id": "TQYkStDydQeI",
        "outputId": "457b520c-cb79-4735-c6b9-d4681c28bf32"
      },
      "execution_count": 31,
      "outputs": [
        {
          "output_type": "stream",
          "name": "stdout",
          "text": [
            "Hello \n",
            " world\n",
            "Hello \t world\n",
            "HelloWorld\n",
            "HelloHelloHello\n",
            "Hello \\n world\n"
          ]
        }
      ]
    },
    {
      "cell_type": "code",
      "source": [
        "a,b,c=10,20,30\n",
        "print(a,b,c)\n",
        "print(a,b,c,sep=\":\")"
      ],
      "metadata": {
        "colab": {
          "base_uri": "https://localhost:8080/"
        },
        "id": "-Z_ali0ad4yQ",
        "outputId": "b57aa44b-43be-465b-928d-6907649a6ac6"
      },
      "execution_count": 34,
      "outputs": [
        {
          "output_type": "stream",
          "name": "stdout",
          "text": [
            "10 20 30\n",
            "10:20:30\n"
          ]
        }
      ]
    },
    {
      "cell_type": "code",
      "source": [
        "print(\"Hello\",end=\" \")\n",
        "print(\"Shubham\")"
      ],
      "metadata": {
        "colab": {
          "base_uri": "https://localhost:8080/"
        },
        "id": "9f3HspaleFVA",
        "outputId": "dfdc4bcd-51b0-4ae4-e2d4-7e5fae57101a"
      },
      "execution_count": 37,
      "outputs": [
        {
          "output_type": "stream",
          "name": "stdout",
          "text": [
            "Hello Shubham\n"
          ]
        }
      ]
    },
    {
      "cell_type": "code",
      "source": [
        "a,b,c=10,20,30\n",
        "print(\"a value is %i\" %a)\n",
        "print(\"b value is %d and c value is %d\" %(b,c))"
      ],
      "metadata": {
        "colab": {
          "base_uri": "https://localhost:8080/"
        },
        "id": "A6zWX7UZe5a3",
        "outputId": "784b05c6-4ab5-4d72-a8f6-0db34c1a991b"
      },
      "execution_count": 39,
      "outputs": [
        {
          "output_type": "stream",
          "name": "stdout",
          "text": [
            "a value is 10\n",
            "b value is 20 and c value is 30\n"
          ]
        }
      ]
    },
    {
      "cell_type": "code",
      "source": [
        "name=\"Shubham\"\n",
        "salary=30000\n",
        "company=\"TCS\"\n",
        "print(\"Hello {0} your salary is {1} and Company {2}\". format (name, salary, company))\n",
        "print(\"Hello {x} your salary is {y} and Company {z}\".format (x=name, y=salary, z=company))"
      ],
      "metadata": {
        "colab": {
          "base_uri": "https://localhost:8080/"
        },
        "id": "G8crQE1if9cW",
        "outputId": "156795fc-e2e7-4a72-baf7-619d210c484a"
      },
      "execution_count": 40,
      "outputs": [
        {
          "output_type": "stream",
          "name": "stdout",
          "text": [
            "Hello Shubham your salary is 30000 and Company TCS\n",
            "Hello Shubham your salary is 30000 and Company TCS\n"
          ]
        }
      ]
    },
    {
      "cell_type": "code",
      "source": [
        "# Find last digit of a Number:\n",
        "a=23546\n",
        "b=int(input(\"Enter a value\"))\n",
        "print(a%10)\n",
        "print(b%10)"
      ],
      "metadata": {
        "colab": {
          "base_uri": "https://localhost:8080/"
        },
        "id": "1BAOKGbXguUX",
        "outputId": "6a6028f4-da01-4ec1-c2ea-60e0b94f096e"
      },
      "execution_count": 42,
      "outputs": [
        {
          "output_type": "stream",
          "name": "stdout",
          "text": [
            "Enter a value5657\n",
            "6\n",
            "7\n"
          ]
        }
      ]
    },
    {
      "cell_type": "code",
      "source": [
        "x=eval(input(\"Enter x value\"))\n",
        "print(x)"
      ],
      "metadata": {
        "colab": {
          "base_uri": "https://localhost:8080/"
        },
        "id": "ez4P8QBDhCMU",
        "outputId": "8abc71bc-48af-49fd-ea92-b6e0a85f3b50"
      },
      "execution_count": 43,
      "outputs": [
        {
          "output_type": "stream",
          "name": "stdout",
          "text": [
            "Enter x value10*5+78\n",
            "128\n"
          ]
        }
      ]
    },
    {
      "cell_type": "code",
      "source": [
        "x=eval(input(\"Enter x value\"))\n",
        "print(x)\n"
      ],
      "metadata": {
        "colab": {
          "base_uri": "https://localhost:8080/"
        },
        "id": "1NEz9PGohPaC",
        "outputId": "b698087f-dd96-4be0-831e-2fa1e85bb79e"
      },
      "execution_count": 44,
      "outputs": [
        {
          "output_type": "stream",
          "name": "stdout",
          "text": [
            "Enter x value[19,56,789,90]\n",
            "[19, 56, 789, 90]\n"
          ]
        }
      ]
    },
    {
      "cell_type": "code",
      "source": [
        "# Find Sum of 2 digit no.:\n",
        "a=int(input(\"Enter a Number:\"))\n",
        "n1=a//10  #use floor division for integer result\n",
        "n2=a%10\n",
        "print(n1+n2)"
      ],
      "metadata": {
        "colab": {
          "base_uri": "https://localhost:8080/"
        },
        "id": "Hjf_QacOhgkH",
        "outputId": "f95896b3-a9a6-415a-81a8-d1c8b72421fa"
      },
      "execution_count": 5,
      "outputs": [
        {
          "output_type": "stream",
          "name": "stdout",
          "text": [
            "Enter a Number:45\n",
            "9\n"
          ]
        }
      ]
    },
    {
      "cell_type": "code",
      "source": [
        "# Find Sum of 3 digit no.:\n",
        "a=int(input(\"Enter a Number:\"))\n",
        "b=a%10\n",
        "a=a//10\n",
        "c=a%10\n",
        "a=a//10\n",
        "d=a%10\n",
        "print(b+c+d)"
      ],
      "metadata": {
        "colab": {
          "base_uri": "https://localhost:8080/"
        },
        "id": "tIqelRjCyQ1f",
        "outputId": "b061eab6-b035-4430-f8d2-e18f3a244b55"
      },
      "execution_count": 6,
      "outputs": [
        {
          "output_type": "stream",
          "name": "stdout",
          "text": [
            "Enter a Number:456\n",
            "15\n"
          ]
        }
      ]
    },
    {
      "cell_type": "code",
      "source": [
        "# Find Sum of 5 digit no.:\n",
        "a=int(input(\"Enter a Number:\"))\n",
        "b=a%10\n",
        "a=a//10\n",
        "c=a%10\n",
        "a=a//10\n",
        "d=a%10\n",
        "a=a//10\n",
        "e=a%10\n",
        "a=a//10\n",
        "f=a%10\n",
        "print(b+c+d+e+f)"
      ],
      "metadata": {
        "colab": {
          "base_uri": "https://localhost:8080/"
        },
        "id": "B-xjn1FmyQuL",
        "outputId": "bf70a970-b2d1-4bb9-ef40-803c0593b5a8"
      },
      "execution_count": 7,
      "outputs": [
        {
          "output_type": "stream",
          "name": "stdout",
          "text": [
            "Enter a Number:12345\n",
            "15\n"
          ]
        }
      ]
    },
    {
      "cell_type": "code",
      "source": [
        "#Reverse of 3 digit number:\n",
        "a=int(input(\"Enter a number: \"))\n",
        "b=a%10\n",
        "a=a//10\n",
        "c=a%10\n",
        "a=a//10\n",
        "d=a%10\n",
        "res=b*100+c*10+d*1\n",
        "print(res)"
      ],
      "metadata": {
        "colab": {
          "base_uri": "https://localhost:8080/"
        },
        "id": "XlUCQnbIyQkd",
        "outputId": "0c5594c4-0e65-49a6-916d-b46d61af4699"
      },
      "execution_count": 10,
      "outputs": [
        {
          "output_type": "stream",
          "name": "stdout",
          "text": [
            "Enter a number: 123\n",
            "321\n"
          ]
        }
      ]
    },
    {
      "cell_type": "code",
      "source": [
        "# Reverse of a 5 digit number:\n",
        "a=int(input(\"Enter a Number:\"))\n",
        "b=a%10\n",
        "a=a//10\n",
        "c=a%10\n",
        "a=a//10\n",
        "d=a%10\n",
        "a=a//10\n",
        "e=a%10\n",
        "a=a//10\n",
        "f=a%10\n",
        "res=b*10000+c*1000+d*100+e*10+f*1\n",
        "print(res)"
      ],
      "metadata": {
        "colab": {
          "base_uri": "https://localhost:8080/"
        },
        "id": "YnYQ2kFo1sDM",
        "outputId": "44e0e447-d00c-430a-bb57-e8d0b46bc9b2"
      },
      "execution_count": 11,
      "outputs": [
        {
          "output_type": "stream",
          "name": "stdout",
          "text": [
            "Enter a Number:12345\n",
            "54321\n"
          ]
        }
      ]
    },
    {
      "cell_type": "code",
      "source": [
        "#sum of first and last digit of a 9 digit number:\n",
        "a=int(input(\"Enter a Number:\"))\n",
        "n1=a%10\n",
        "n2=a//100000000\n",
        "print(n1+n2)"
      ],
      "metadata": {
        "colab": {
          "base_uri": "https://localhost:8080/"
        },
        "id": "AkxT_3mB1r_t",
        "outputId": "48c3c0d6-dcaa-41be-9956-5dce2f46df06"
      },
      "execution_count": 12,
      "outputs": [
        {
          "output_type": "stream",
          "name": "stdout",
          "text": [
            "Enter a Number:123456789\n",
            "10\n"
          ]
        }
      ]
    },
    {
      "cell_type": "code",
      "source": [
        "s=\"Shubham\"\n",
        "print(s[0])\n",
        "print(s[-1])\n",
        "print(s[0:4])  #slicing\n",
        "print(s[2:4])\n",
        "print(s[:4])\n",
        "print(s[2:])\n",
        "print(s[::])\n",
        "print(s[::-1])\n",
        "print(s[1:4:2])"
      ],
      "metadata": {
        "colab": {
          "base_uri": "https://localhost:8080/"
        },
        "id": "nK5Qt6q01r9B",
        "outputId": "ae454f8f-abc4-4b9e-9b98-da1843b52eab"
      },
      "execution_count": 14,
      "outputs": [
        {
          "output_type": "stream",
          "name": "stdout",
          "text": [
            "S\n",
            "m\n",
            "Shub\n",
            "ub\n",
            "Shub\n",
            "ubham\n",
            "Shubham\n",
            "mahbuhS\n",
            "hb\n"
          ]
        }
      ]
    },
    {
      "cell_type": "code",
      "source": [
        "#simple if:\n",
        "# Accepy 5 numbers & find max number:\n",
        "a=int(input(\"Enter a value\"))\n",
        "b=int(input(\"Enter b value\"))\n",
        "c=int(input(\"Enter c value\"))\n",
        "d=int(input(\"Enter d value\"))\n",
        "e=int(input(\"Enter e value\"))\n",
        "if a>b and a>c and a>d and a>e:\n",
        "  print(\"a is max\")\n",
        "if b>a and b>c and b>d and b>e:\n",
        "  print(\"b is max\")\n",
        "if c>a and c>b and c>d and c>e:\n",
        "  print(\"c is max\")\n",
        "if d>a and d>b and d>c and d>e:\n",
        "  print(\"d is max\")\n",
        "if e>a and e>b and e>c and e>d:\n",
        "  print(\"e is max\")"
      ],
      "metadata": {
        "colab": {
          "base_uri": "https://localhost:8080/"
        },
        "id": "0WvTizNY1r4n",
        "outputId": "9b78d8c4-75fb-4621-e306-88c4fbff0423"
      },
      "execution_count": 16,
      "outputs": [
        {
          "output_type": "stream",
          "name": "stdout",
          "text": [
            "Enter a value1\n",
            "Enter b value2\n",
            "Enter c value3\n",
            "Enter d value4\n",
            "Enter e value5\n",
            "e is max\n"
          ]
        }
      ]
    },
    {
      "cell_type": "code",
      "source": [
        "a=int(input(\"Enter a value\"))\n",
        "b=int(input(\"Enter b value\"))\n",
        "c=int(input(\"Enter c value\"))\n",
        "gender=input(\"Enter gender(F/M)\")\n",
        "res=(a+b+c)/3\n",
        "if res>=82 and gender==\"F\":\n",
        "  print(\"She can take Admission\")\n",
        "elif res>=62 and gender==\"M\":\n",
        "  print(\"He can take Admission\")\n",
        "else:\n",
        "  print(\"Can't take Admission\")"
      ],
      "metadata": {
        "colab": {
          "base_uri": "https://localhost:8080/"
        },
        "id": "hgkiqBQ61rzX",
        "outputId": "4e4cf781-2e4b-4a3d-a80a-25e6ed73fc92"
      },
      "execution_count": 22,
      "outputs": [
        {
          "output_type": "stream",
          "name": "stdout",
          "text": [
            "Enter a value92\n",
            "Enter b value95\n",
            "Enter c value99\n",
            "Enter gender(F/M)F\n",
            "She can take Admission\n"
          ]
        }
      ]
    },
    {
      "cell_type": "code",
      "source": [
        "#Accept a Year and check leap year or not:\n",
        "#(Use Centuary and non centuary Concept):\n",
        "year = int(input(\"Enter year value :- \"))\n",
        "if (year % 100 != 0) :\n",
        "    print(\"Non Century Year\")\n",
        "    if(year % 4 == 0) :\n",
        "        print(\"Leap Year\")\n",
        "    else :\n",
        "        print(\"Not Leap Year\")\n",
        "else :\n",
        "    print(\"Century Year\")\n",
        "    if(year % 400 == 0) :\n",
        "        print(\"Leap Year\")\n",
        "    else :\n",
        "        print(\"Not Leap Year\")"
      ],
      "metadata": {
        "colab": {
          "base_uri": "https://localhost:8080/"
        },
        "id": "oixDS5cFAJAa",
        "outputId": "249ceeb0-7c44-4eab-f713-f7c5e8c87f82"
      },
      "execution_count": 23,
      "outputs": [
        {
          "output_type": "stream",
          "name": "stdout",
          "text": [
            "Enter year value :- 2024\n",
            "Non Century Year\n",
            "Leap Year\n"
          ]
        }
      ]
    },
    {
      "cell_type": "code",
      "source": [
        "cp=int(input(\"Enter cost price: \"))\n",
        "userType=input(\"Enter user type(student/general): \")\n",
        "if (userType==\"student\"):\n",
        "  if(cp>500):\n",
        "    discount=10\n",
        "  else:\n",
        "    discount=5\n",
        "else:\n",
        "  if(cp>500):\n",
        "    discount=8\n",
        "  else:\n",
        "    discount=2\n",
        "NP=cp-cp*discount/100\n",
        "print(\"Discounted price is \",NP)\n",
        "print(\"disount is \",discount)\n",
        "print(\"Cost Price is: \",cp)"
      ],
      "metadata": {
        "colab": {
          "base_uri": "https://localhost:8080/"
        },
        "id": "kmaIQbkFAI88",
        "outputId": "0cd411ce-674e-4eba-f73b-d2556a4cb7a0"
      },
      "execution_count": 29,
      "outputs": [
        {
          "output_type": "stream",
          "name": "stdout",
          "text": [
            "Enter cost price: 100\n",
            "Enter user type(student/general): student\n",
            "Discounted price is  95.0\n",
            "disount is  5\n",
            "Cost Price is:  100\n"
          ]
        }
      ]
    },
    {
      "cell_type": "code",
      "source": [
        "x=(input(\"Enter a character: \"))\n",
        "no=ord(x)   # convert the character in Ascii value by ord function\n",
        "if no>=65 and no<=90:\n",
        "  print(\"Upper Case\")\n",
        "elif no>=97 and no<=122:\n",
        "  print(\"Lower Case\")\n",
        "elif no>=48 and no<=57:\n",
        "  print(\"Digit\")\n",
        "else:\n",
        "  print(\"special symbol\")"
      ],
      "metadata": {
        "colab": {
          "base_uri": "https://localhost:8080/"
        },
        "id": "F5S3oscoAI53",
        "outputId": "55e2368e-4eed-4bd0-fead-69dddc148ac1"
      },
      "execution_count": 34,
      "outputs": [
        {
          "output_type": "stream",
          "name": "stdout",
          "text": [
            "Enter a character: A\n",
            "Upper Case\n"
          ]
        }
      ]
    },
    {
      "cell_type": "code",
      "source": [
        "#Looping: if we want execute a block of statements or no. of statements repeteadely again and again till the condition is satisfied then looping is used.\n",
        "#For Loop is used when range is Given while, While Loop is used when range is not given.\n",
        "#reverse the number:\n",
        "no=int(input(\"Enter a Number: \"))\n",
        "rev=0\n",
        "while no>0:\n",
        "  rem=no%10\n",
        "  no=no//10\n",
        "  rev=rev*10+rem\n",
        "print(rev)"
      ],
      "metadata": {
        "colab": {
          "base_uri": "https://localhost:8080/"
        },
        "id": "daAVzHJY7W8b",
        "outputId": "8d0132bb-f745-4ffe-8f5e-4b6fbac512a1"
      },
      "execution_count": 37,
      "outputs": [
        {
          "output_type": "stream",
          "name": "stdout",
          "text": [
            "Enter a Number: 1234\n",
            "4321\n"
          ]
        }
      ]
    },
    {
      "cell_type": "code",
      "source": [
        "#Accept a number and count number of digits entered by user:\n",
        "no=int(input(\"Enter a Number: \"))\n",
        "cnt=0\n",
        "while no>0:\n",
        "  x=no%10\n",
        "  no=no//10\n",
        "  cnt=cnt+1\n",
        "print(cnt)"
      ],
      "metadata": {
        "colab": {
          "base_uri": "https://localhost:8080/"
        },
        "id": "UxB3TBDO7W43",
        "outputId": "c20590a5-7910-4b84-e767-217edc113608"
      },
      "execution_count": 38,
      "outputs": [
        {
          "output_type": "stream",
          "name": "stdout",
          "text": [
            "Enter a Number: 145678\n",
            "6\n"
          ]
        }
      ]
    },
    {
      "cell_type": "code",
      "source": [
        "#Accept a number and print sum of digits of any number:\n",
        "no=int(input(\"Enter a number: \"))\n",
        "sum=0\n",
        "while no>0:\n",
        "  x=no%10\n",
        "  no=no//10\n",
        "  sum=sum+x\n",
        "print(sum)"
      ],
      "metadata": {
        "colab": {
          "base_uri": "https://localhost:8080/"
        },
        "id": "69CoxLL67W0n",
        "outputId": "73ca88ef-cf4c-4445-a364-ec41bef8faa3"
      },
      "execution_count": 39,
      "outputs": [
        {
          "output_type": "stream",
          "name": "stdout",
          "text": [
            "Enter a number: 12345\n",
            "15\n"
          ]
        }
      ]
    },
    {
      "cell_type": "code",
      "source": [
        "# Accept a number and find multiplication of any number:\n",
        "no=int(input(\"Enter a number: \"))\n",
        "mul=1\n",
        "while no>0:\n",
        "  x=no%10\n",
        "  no=no//10\n",
        "  mul=mul*x\n",
        "print(mul)"
      ],
      "metadata": {
        "colab": {
          "base_uri": "https://localhost:8080/"
        },
        "id": "PZSHUbrS7WxE",
        "outputId": "051bd636-0aa6-43cb-d571-e55f7a4c2a63"
      },
      "execution_count": 41,
      "outputs": [
        {
          "output_type": "stream",
          "name": "stdout",
          "text": [
            "Enter a number: 547\n",
            "140\n"
          ]
        }
      ]
    },
    {
      "cell_type": "code",
      "source": [
        "#Accept a number and find factorial of that number:\n",
        "no=int(input(\"Enter a number: \"))\n",
        "fact=1\n",
        "while no>0:\n",
        "  fact=fact*no\n",
        "  no=no-1\n",
        "print(fact)"
      ],
      "metadata": {
        "colab": {
          "base_uri": "https://localhost:8080/"
        },
        "id": "9sEKNIKS7WuU",
        "outputId": "77bd02cf-7182-4c5d-b042-4e6278f07d9a"
      },
      "execution_count": 43,
      "outputs": [
        {
          "output_type": "stream",
          "name": "stdout",
          "text": [
            "Enter a number: 6\n",
            "720\n"
          ]
        }
      ]
    },
    {
      "cell_type": "code",
      "source": [
        "# Accept a number and check no is armstrong:\n",
        "no=int(input(\"Enter a number: \"))\n",
        "temp=no\n",
        "temp1=no\n",
        "sum=0\n",
        "cnt=0\n",
        "while temp>0:\n",
        "  temp=temp//10\n",
        "  cnt=cnt+1\n",
        "while no>0:\n",
        "  x=no%10\n",
        "  no=no//10\n",
        "  sum=sum+x**cnt\n",
        "if sum==temp1:\n",
        "    print(\"Armstrong\")\n",
        "else:\n",
        "    print(\"Not Armstrong\")"
      ],
      "metadata": {
        "colab": {
          "base_uri": "https://localhost:8080/"
        },
        "id": "OeTE1lMN7WrW",
        "outputId": "94eb9240-b952-47c3-89d0-02239998206a"
      },
      "execution_count": 6,
      "outputs": [
        {
          "output_type": "stream",
          "name": "stdout",
          "text": [
            "Enter a number: 9474\n",
            "Armstrong\n"
          ]
        }
      ]
    },
    {
      "cell_type": "code",
      "source": [
        "#print 1 to 10000 all armstrong numbers:\n",
        "for i in range(1,10000):\n",
        "  temp=i\n",
        "  temp1=i\n",
        "  sum=0\n",
        "  cnt=0\n",
        "  while temp>0:\n",
        "    temp=temp//10\n",
        "    cnt=cnt+1\n",
        "  while i>0:\n",
        "    x=i%10\n",
        "    i=i//10\n",
        "    sum=sum+x**cnt\n",
        "  if sum==temp1:\n",
        "    print(temp1)"
      ],
      "metadata": {
        "colab": {
          "base_uri": "https://localhost:8080/"
        },
        "id": "YspfWKow7WkT",
        "outputId": "0c47aa4c-d607-4714-83f0-ab65ce0fabd4"
      },
      "execution_count": 8,
      "outputs": [
        {
          "output_type": "stream",
          "name": "stdout",
          "text": [
            "1\n",
            "2\n",
            "3\n",
            "4\n",
            "5\n",
            "6\n",
            "7\n",
            "8\n",
            "9\n",
            "153\n",
            "370\n",
            "371\n",
            "407\n",
            "1634\n",
            "8208\n",
            "9474\n"
          ]
        }
      ]
    },
    {
      "cell_type": "code",
      "source": [
        "# peterson Number(sum of facorial of every digit is equal to that number):\n",
        "no=int(input(\"Enter a number: \"))\n",
        "temp=no\n",
        "sum=0\n",
        "while(no>0):\n",
        "  rem=no%10\n",
        "  fact=1\n",
        "  for i in range(1,rem+1):\n",
        "    fact=fact*i\n",
        "  no=no//10\n",
        "  sum=sum+fact\n",
        "if sum==temp:\n",
        "  print(\"Peterson Number\")\n",
        "else:\n",
        "  print(\"Not Peterson Number\")"
      ],
      "metadata": {
        "colab": {
          "base_uri": "https://localhost:8080/"
        },
        "id": "cyDCwspZRbzb",
        "outputId": "0e7eafab-2cc9-4c74-939f-6e13af9aff9d"
      },
      "execution_count": 53,
      "outputs": [
        {
          "output_type": "stream",
          "name": "stdout",
          "text": [
            "Enter a number: 145\n",
            "Peterson Number\n"
          ]
        }
      ]
    },
    {
      "cell_type": "code",
      "source": [
        "#Tech Number(A number is called a tech number if the given number has an even number of digits and the number can be divided exactely into two parts from the middle. After qually dividing the number, sum up the numbers and find the square of the sum. If we get the number itself as square, the given number is a tect number, else, not a tech number.)\n",
        "no=int(input(\"Enter a number: \"))\n",
        "temp=no\n",
        "cnt=0\n",
        "while no>0:\n",
        "  no=no//10\n",
        "  cnt=cnt+1\n",
        "if(cnt%2==0):\n",
        "  div=10**(cnt//2)\n",
        "  w=temp%div\n",
        "  y=temp//div\n",
        "  z=w+y\n",
        "  res=z**2\n",
        "  if res==temp:\n",
        "    print(\"Tech Number\")\n",
        "  else:\n",
        "    print(\"Not Tech Number\")\n",
        "else:\n",
        "  print(\"Not Tech Number\")\n"
      ],
      "metadata": {
        "colab": {
          "base_uri": "https://localhost:8080/"
        },
        "id": "maBlDBraRcBE",
        "outputId": "5d0463ea-afc6-44bf-e7aa-f40644620f85"
      },
      "execution_count": 12,
      "outputs": [
        {
          "output_type": "stream",
          "name": "stdout",
          "text": [
            "Enter a number: 2025\n",
            "Tech Number\n"
          ]
        }
      ]
    },
    {
      "cell_type": "code",
      "source": [],
      "metadata": {
        "id": "4ruOPSOZRcDs"
      },
      "execution_count": null,
      "outputs": []
    },
    {
      "cell_type": "code",
      "source": [],
      "metadata": {
        "id": "loj09Eu0RcHP"
      },
      "execution_count": null,
      "outputs": []
    }
  ]
}