{
  "nbformat": 4,
  "nbformat_minor": 0,
  "metadata": {
    "colab": {
      "provenance": []
    },
    "kernelspec": {
      "name": "python3",
      "display_name": "Python 3"
    },
    "language_info": {
      "name": "python"
    }
  },
  "cells": [
    {
      "cell_type": "code",
      "execution_count": null,
      "metadata": {
        "colab": {
          "base_uri": "https://localhost:8080/"
        },
        "id": "jHfW1-fpFN1J",
        "outputId": "32453203-a3ef-4cc4-967b-259688f1a718"
      },
      "outputs": [
        {
          "output_type": "stream",
          "name": "stdout",
          "text": [
            "1\n",
            "2\n",
            "3\n",
            "4\n"
          ]
        }
      ],
      "source": [
        "for i in range(1,11):\n",
        "  if i==5:\n",
        "    break\n",
        "  print(i)"
      ]
    },
    {
      "cell_type": "code",
      "source": [
        "for i in range(1,11):\n",
        "  if i==5:\n",
        "    continue\n",
        "  print(i)"
      ],
      "metadata": {
        "colab": {
          "base_uri": "https://localhost:8080/"
        },
        "id": "LkVrev5aHxg1",
        "outputId": "186e9c9d-50b2-4148-a1fd-263f4080ca9b"
      },
      "execution_count": null,
      "outputs": [
        {
          "output_type": "stream",
          "name": "stdout",
          "text": [
            "1\n",
            "2\n",
            "3\n",
            "4\n",
            "6\n",
            "7\n",
            "8\n",
            "9\n",
            "10\n"
          ]
        }
      ]
    },
    {
      "cell_type": "code",
      "source": [
        "for i in range(1,6):\n",
        "  if i==3:\n",
        "    continue\n",
        "  print(i,11-i)"
      ],
      "metadata": {
        "colab": {
          "base_uri": "https://localhost:8080/"
        },
        "id": "0-eOfZfGHxdR",
        "outputId": "2fa973ea-2510-411d-8ba5-ce6469823fce"
      },
      "execution_count": null,
      "outputs": [
        {
          "output_type": "stream",
          "name": "stdout",
          "text": [
            "1 10\n",
            "2 9\n",
            "4 7\n",
            "5 6\n"
          ]
        }
      ]
    },
    {
      "cell_type": "code",
      "source": [
        "j=10\n",
        "for i in range(1,6):\n",
        "  if i==3:\n",
        "    j=j-1\n",
        "    continue\n",
        "  print(i,\"\\t\",j)\n",
        "  j=j-1"
      ],
      "metadata": {
        "colab": {
          "base_uri": "https://localhost:8080/"
        },
        "id": "3ifNFjKrHxaj",
        "outputId": "6685461b-e670-4477-c962-9a4ddc4be501"
      },
      "execution_count": null,
      "outputs": [
        {
          "output_type": "stream",
          "name": "stdout",
          "text": [
            "1 \t 10\n",
            "2 \t 9\n",
            "4 \t 7\n",
            "5 \t 6\n"
          ]
        }
      ]
    },
    {
      "cell_type": "code",
      "source": [
        "#For Loops:\n",
        "for i in range(1,5):\n",
        "  for j in range(1,5):\n",
        "    print(i,end=\"\")\n",
        "  print()"
      ],
      "metadata": {
        "colab": {
          "base_uri": "https://localhost:8080/"
        },
        "id": "wC6KBFVoHxVx",
        "outputId": "c20104cc-5578-4334-d5bf-236003de5247"
      },
      "execution_count": null,
      "outputs": [
        {
          "output_type": "stream",
          "name": "stdout",
          "text": [
            "1111\n",
            "2222\n",
            "3333\n",
            "4444\n"
          ]
        }
      ]
    },
    {
      "cell_type": "code",
      "source": [
        "for i in range(1,5):   #for rows\n",
        "  for j in range(1,5): #for cols\n",
        "    print(j,end=\"\")\n",
        "  print()"
      ],
      "metadata": {
        "colab": {
          "base_uri": "https://localhost:8080/"
        },
        "id": "ROyJN9GtHxSY",
        "outputId": "efa42f1a-6987-473c-e974-2823417d1f22"
      },
      "execution_count": null,
      "outputs": [
        {
          "output_type": "stream",
          "name": "stdout",
          "text": [
            "1234\n",
            "1234\n",
            "1234\n",
            "1234\n"
          ]
        }
      ]
    },
    {
      "cell_type": "code",
      "source": [
        "n=1\n",
        "for i in range(1,5):\n",
        "  for j in range(1,5):\n",
        "    print(n,end=\"\")\n",
        "    n+=1   #short-hand operator\n",
        "  print()"
      ],
      "metadata": {
        "id": "bMxRSmFTHxQM"
      },
      "execution_count": null,
      "outputs": []
    },
    {
      "cell_type": "code",
      "source": [
        "n=65\n",
        "for i in range(1,5):\n",
        "  for j in range(1,5):\n",
        "    print(chr(n),end=\" \")\n",
        "    n+=1\n",
        "  print()"
      ],
      "metadata": {
        "colab": {
          "base_uri": "https://localhost:8080/"
        },
        "id": "U4YgPhN7HxN6",
        "outputId": "870fa33a-e58b-4dd5-9c0f-c4f7c56e116e"
      },
      "execution_count": null,
      "outputs": [
        {
          "output_type": "stream",
          "name": "stdout",
          "text": [
            "A B C D \n",
            "E F G H \n",
            "I J K L \n",
            "M N O P \n"
          ]
        }
      ]
    },
    {
      "cell_type": "code",
      "source": [
        "for i in range(1,5):\n",
        "  for j in range(1,i+1):\n",
        "    print(i,end=\" \")\n",
        "    j+=1\n",
        "  print()"
      ],
      "metadata": {
        "colab": {
          "base_uri": "https://localhost:8080/"
        },
        "id": "07aQS6HLHxKu",
        "outputId": "e65fc547-6cfb-48ad-9b9c-3d3d20ba6e91"
      },
      "execution_count": null,
      "outputs": [
        {
          "output_type": "stream",
          "name": "stdout",
          "text": [
            "1\n",
            "22\n",
            "333\n",
            "4444\n"
          ]
        }
      ]
    },
    {
      "cell_type": "code",
      "source": [
        "for i in range(1,5):\n",
        "  for j in range(5,i,-1):\n",
        "    print(\"*\",end=\"\")\n",
        "  print()"
      ],
      "metadata": {
        "colab": {
          "base_uri": "https://localhost:8080/"
        },
        "id": "ZHjLZ-hiHxIb",
        "outputId": "4ba43d44-51e9-4387-fbed-92b09a8050ae"
      },
      "execution_count": null,
      "outputs": [
        {
          "output_type": "stream",
          "name": "stdout",
          "text": [
            "****\n",
            "***\n",
            "**\n",
            "*\n"
          ]
        }
      ]
    },
    {
      "cell_type": "code",
      "source": [
        "for i in range(1,5):\n",
        "  for j in range(1,i):\n",
        "    print(\" \",end=\"\")\n",
        "  for k in range(5,i,-1):\n",
        "      print(\"*\",end=\"\")\n",
        "  print()"
      ],
      "metadata": {
        "colab": {
          "base_uri": "https://localhost:8080/"
        },
        "id": "57vcL727TNmH",
        "outputId": "b133096c-66d0-492b-fafc-9f1c32ea7408"
      },
      "execution_count": 1,
      "outputs": [
        {
          "output_type": "stream",
          "name": "stdout",
          "text": [
            "****\n",
            " ***\n",
            "  **\n",
            "   *\n"
          ]
        }
      ]
    },
    {
      "cell_type": "code",
      "source": [
        "for i in range(1,5):\n",
        "  for j in range(5,i,-1):\n",
        "    if j>i:\n",
        "      print(\" \",end=\"\")\n",
        "  for k in range(1,i+1):\n",
        "    print(\"*\",end=\"\")\n",
        "  print()\n",
        ""
      ],
      "metadata": {
        "id": "5QKgumtzTPjN",
        "colab": {
          "base_uri": "https://localhost:8080/"
        },
        "outputId": "7b63182f-9805-4eab-e5c8-29f5d890cff9"
      },
      "execution_count": 2,
      "outputs": [
        {
          "output_type": "stream",
          "name": "stdout",
          "text": [
            "    *\n",
            "   **\n",
            "  ***\n",
            " ****\n"
          ]
        }
      ]
    },
    {
      "cell_type": "code",
      "source": [
        "#strings:\n",
        "s=\"Learning Python is very easy from Ashish sir\"\n",
        "print(s.find(\"Python\"))\n",
        "print(s.find(\"Java\"))\n",
        "print(s.find(\"r\"))\n",
        "print(s.rfind(\"r\")) #right to lest search."
      ],
      "metadata": {
        "colab": {
          "base_uri": "https://localhost:8080/"
        },
        "id": "x8i_-1bXHw_X",
        "outputId": "0f9b76c3-5376-469b-9792-7a7797d781f6"
      },
      "execution_count": null,
      "outputs": [
        {
          "output_type": "stream",
          "name": "stdout",
          "text": [
            "9\n",
            "-1\n",
            "3\n",
            "43\n"
          ]
        }
      ]
    },
    {
      "cell_type": "code",
      "source": [
        "s=\"abcdaabbccddabcddcbaabbdddcccb\"\n",
        "print(s.count(\"a\"))\n",
        "print(s.count(\"ab\"))\n",
        "print(s.count(\"cc\"))\n",
        "print(s.count(\"a\",3,10))"
      ],
      "metadata": {
        "colab": {
          "base_uri": "https://localhost:8080/"
        },
        "id": "gmA6dD18Hw8r",
        "outputId": "e188db13-95a6-4bb2-886f-d053c0e61cbe"
      },
      "execution_count": null,
      "outputs": [
        {
          "output_type": "stream",
          "name": "stdout",
          "text": [
            "6\n",
            "4\n",
            "2\n",
            "2\n"
          ]
        }
      ]
    },
    {
      "cell_type": "code",
      "source": [
        "s=\"Learning Python is very difficult from Ashish sir\"\n",
        "print(s.replace(\"difficult\",\"easy\"))\n",
        "x=\"abbbbaaabaaabbaaabbbb\"\n",
        "y=x.replace(\"a\",\"b\")\n",
        "print(y)"
      ],
      "metadata": {
        "colab": {
          "base_uri": "https://localhost:8080/"
        },
        "id": "pAMYAQ8uSWLQ",
        "outputId": "5deccc1e-93f9-406e-9fa2-03455172cee1"
      },
      "execution_count": null,
      "outputs": [
        {
          "output_type": "stream",
          "name": "stdout",
          "text": [
            "Learning Python is very easy from Ashish sir\n",
            "bbbbbbbbbbbbbbbbbbbbb\n"
          ]
        }
      ]
    },
    {
      "cell_type": "code",
      "source": [
        "# immutable:can't be change in same memory."
      ],
      "metadata": {
        "id": "RZ9i0inbSWH5"
      },
      "execution_count": null,
      "outputs": []
    },
    {
      "cell_type": "code",
      "source": [
        "#split function:\n",
        "s=\"Learning Python is very difficult from Ashish sir\"\n",
        "s1=\"22-02-2024\"\n",
        "l=s.split()\n",
        "print(l)\n",
        "print(type(l))\n",
        "for x in l:\n",
        "  print(x)\n",
        "l1=s1.split(\"-\")\n",
        "print(l1)"
      ],
      "metadata": {
        "colab": {
          "base_uri": "https://localhost:8080/"
        },
        "id": "r_vB3DsJSWFL",
        "outputId": "e022eeb3-1e10-40a0-d19d-39966b804de0"
      },
      "execution_count": null,
      "outputs": [
        {
          "output_type": "stream",
          "name": "stdout",
          "text": [
            "['Learning', 'Python', 'is', 'very', 'difficult', 'from', 'Ashish', 'sir']\n",
            "<class 'list'>\n",
            "Learning\n",
            "Python\n",
            "is\n",
            "very\n",
            "difficult\n",
            "from\n",
            "Ashish\n",
            "sir\n",
            "['22', '02', '2024']\n"
          ]
        }
      ]
    },
    {
      "cell_type": "code",
      "source": [
        "#join function:\n",
        "l=['Nagpur','Pune','Mumbai','Delhi']\n",
        "s=':'.join(l)\n",
        "print(s)"
      ],
      "metadata": {
        "colab": {
          "base_uri": "https://localhost:8080/"
        },
        "id": "SdyyVGPgSWCB",
        "outputId": "e0d3bb94-afc5-4a3c-b8fc-e863c50b8331"
      },
      "execution_count": null,
      "outputs": [
        {
          "output_type": "stream",
          "name": "stdout",
          "text": [
            "Nagpur:Pune:Mumbai:Delhi\n"
          ]
        }
      ]
    },
    {
      "cell_type": "code",
      "source": [
        "s='learning Python is very Easy from Ashish sir'\n",
        "print(s. startswith( 'learning'))\n",
        "print(s. endswith( 'learning'))\n",
        "print(s.endswith('sir'))"
      ],
      "metadata": {
        "colab": {
          "base_uri": "https://localhost:8080/"
        },
        "id": "Pws_H-smSV-1",
        "outputId": "7eba68c5-3f5c-403b-ab8f-2b255eadd594"
      },
      "execution_count": null,
      "outputs": [
        {
          "output_type": "stream",
          "name": "stdout",
          "text": [
            "True\n",
            "False\n",
            "True\n"
          ]
        }
      ]
    },
    {
      "cell_type": "code",
      "source": [
        "s='learning Python is very Easy from Ashish sir'\n",
        "print(s.upper ())\n",
        "print(s. lower())\n",
        "print(s. swapcase())\n",
        "print(s.title())\n",
        "print(s. capitalize())"
      ],
      "metadata": {
        "colab": {
          "base_uri": "https://localhost:8080/"
        },
        "id": "EqLAz-jgSV5-",
        "outputId": "7822224a-ecec-457f-da9e-53a4dfda1f27"
      },
      "execution_count": null,
      "outputs": [
        {
          "output_type": "stream",
          "name": "stdout",
          "text": [
            "LEARNING PYTHON IS VERY EASY FROM ASHISH SIR\n",
            "learning python is very easy from ashish sir\n",
            "LEARNING pYTHON IS VERY eASY FROM aSHISH SIR\n",
            "Learning Python Is Very Easy From Ashish Sir\n",
            "Learning python is very easy from ashish sir\n"
          ]
        }
      ]
    },
    {
      "cell_type": "code",
      "source": [
        "print ('Ashish786' .isalnum ())\n",
        "#True\n",
        "print('ashish786' .isalpha())\n",
        "#False\n",
        "print( 'ashish' .isalpha())\n",
        "#True\n",
        "print('ashish' .isdigit())\n",
        "#False\n",
        "print('786786' .isdigit())\n",
        "#True\n",
        "print('abc' .islower()) #True\n",
        "print( 'Abc'. islower()) #False\n",
        "print('abc123' .islower()) #True\n",
        "print( 'ABC' .isupper()) #True\n",
        "print( 'Learning python is Easy from Ashish Sir'.istitle())\n",
        "#False\n",
        "26\n",
        "print( 'Learning Python Is Easy From Ashish Sir'.istitle())\n",
        "#True\n",
        "27\n",
        "print(' '.isspace()) #True"
      ],
      "metadata": {
        "colab": {
          "base_uri": "https://localhost:8080/"
        },
        "id": "9c8dKWbvZJ4X",
        "outputId": "3c4f0a0a-0d25-48ab-816b-465b00bc02a7"
      },
      "execution_count": null,
      "outputs": [
        {
          "output_type": "stream",
          "name": "stdout",
          "text": [
            "True\n",
            "False\n",
            "True\n",
            "False\n",
            "True\n",
            "True\n",
            "False\n",
            "True\n",
            "True\n",
            "False\n",
            "True\n",
            "True\n"
          ]
        }
      ]
    },
    {
      "cell_type": "code",
      "source": [
        "mob=input(\"Enter mobile number: \")\n",
        "if len(mob)==10:\n",
        "  if mob.isdigit():\n",
        "    if mob.startswith('6') or mob.startswith('7') or mob.startswith('8') or mob.startswith('9'):\n",
        "      print(\"Valid Mobile Number\")\n",
        "    else:\n",
        "      print(\"Invalid Mobile Number\")\n",
        "  else:\n",
        "    print(\"Invalid Mobile Number\")\n",
        "else:\n",
        "  print(\"Please Enter a 10 digit Mobile Number\")"
      ],
      "metadata": {
        "colab": {
          "base_uri": "https://localhost:8080/"
        },
        "id": "QTA0etrFZJiV",
        "outputId": "1d5148f0-ba1e-4769-9eed-ab32aa0e12b2"
      },
      "execution_count": null,
      "outputs": [
        {
          "output_type": "stream",
          "name": "stdout",
          "text": [
            "Enter mobile number: 9664062302\n",
            "Valid Mobile Number\n"
          ]
        }
      ]
    },
    {
      "cell_type": "code",
      "source": [
        "#Reverse a string:\n",
        "# 1st way:\n",
        "s=input(\"Enter a string\")\n",
        "print(s[::-1])\n",
        "#2nd way:\n",
        "print(''.join(reversed(s)))"
      ],
      "metadata": {
        "colab": {
          "base_uri": "https://localhost:8080/"
        },
        "id": "OEQXsRNsZJe5",
        "outputId": "accc25d5-785a-4d95-beaa-e0029ba45c34"
      },
      "execution_count": null,
      "outputs": [
        {
          "output_type": "stream",
          "name": "stdout",
          "text": [
            "Enter a stringShubham\n",
            "mahbuhS\n",
            "mahbuhS\n"
          ]
        }
      ]
    },
    {
      "cell_type": "code",
      "source": [
        "#Reverse a string without using any function:\n",
        "s=input(\"Enter a string\")\n",
        "rev=''\n",
        "for i in s:\n",
        "  rev=i+rev\n",
        "print(rev)"
      ],
      "metadata": {
        "colab": {
          "base_uri": "https://localhost:8080/"
        },
        "id": "dtp_XQxoZJct",
        "outputId": "98450bc4-0a86-4f4f-b77e-8e86f2813c1a"
      },
      "execution_count": null,
      "outputs": [
        {
          "output_type": "stream",
          "name": "stdout",
          "text": [
            "Enter a stringShubham\n",
            "mahbuhS\n"
          ]
        }
      ]
    },
    {
      "cell_type": "code",
      "source": [
        "#program ro reverse order of words\n",
        "s='learning Python is very Easy from Ashish sir'\n",
        "l=s.split()\n",
        "x=''\n",
        "for i in l:\n",
        "  x=i+' '+x\n",
        "print(x)"
      ],
      "metadata": {
        "colab": {
          "base_uri": "https://localhost:8080/"
        },
        "id": "7te72DGfZJZ_",
        "outputId": "3c143a61-7c94-4572-ada5-4d76c8a7bf92"
      },
      "execution_count": null,
      "outputs": [
        {
          "output_type": "stream",
          "name": "stdout",
          "text": [
            "sir Ashish from Easy very is Python learning \n"
          ]
        }
      ]
    },
    {
      "cell_type": "code",
      "source": [
        "s='learning Python is very Easy from Ashish sir'\n",
        "l=s.split()\n",
        "x=''\n",
        "for i in l:\n",
        "  print(x+''.join(reversed(i)),end=\" \")"
      ],
      "metadata": {
        "colab": {
          "base_uri": "https://localhost:8080/"
        },
        "id": "hHnV4TcdZJXZ",
        "outputId": "c6a7aec5-3d95-44e5-cd30-f0941326be75"
      },
      "execution_count": null,
      "outputs": [
        {
          "output_type": "stream",
          "name": "stdout",
          "text": [
            "gninrael nohtyP si yrev ysaE morf hsihsA ris "
          ]
        }
      ]
    },
    {
      "cell_type": "code",
      "source": [
        "#input: ABCDABBCDABBBCCCDDEEEF\n",
        "# output: ABCDEF\n",
        "# unique string\n",
        "s= \"ABDACDABBCDABBBCCCDDEEEF\"\n",
        "x = ''\n",
        "for i in s:\n",
        "  if i not in x:\n",
        "    x = x + i\n",
        "print(x)"
      ],
      "metadata": {
        "colab": {
          "base_uri": "https://localhost:8080/"
        },
        "id": "4bJqGihKZJTo",
        "outputId": "2c87c503-abb0-4c49-d717-02f2a0c69c0c"
      },
      "execution_count": null,
      "outputs": [
        {
          "output_type": "stream",
          "name": "stdout",
          "text": [
            "ABDCEF\n"
          ]
        }
      ]
    },
    {
      "cell_type": "code",
      "source": [
        "l=[]\n",
        "l1=()\n",
        "l2={}\n",
        "l3=set()\n",
        "print(l)\n",
        "print(l1)\n",
        "print(l2)\n",
        "print(l3)\n",
        "print(type(l))\n",
        "print(type(l1))\n",
        "print(type(l2))\n",
        "print(type(l3))"
      ],
      "metadata": {
        "colab": {
          "base_uri": "https://localhost:8080/"
        },
        "id": "9FBdzztmjqQy",
        "outputId": "4a86474c-0e77-4366-b780-4f5817d9a4cd"
      },
      "execution_count": null,
      "outputs": [
        {
          "output_type": "stream",
          "name": "stdout",
          "text": [
            "[]\n",
            "()\n",
            "{}\n",
            "set()\n",
            "<class 'list'>\n",
            "<class 'tuple'>\n",
            "<class 'dict'>\n",
            "<class 'set'>\n"
          ]
        }
      ]
    },
    {
      "cell_type": "code",
      "source": [
        "list=[]\n",
        "list. append (\"A\")\n",
        "list. append (\"B\")\n",
        "list. append (\"C\")\n",
        "list.insert(1,\"2\")\n",
        "list[3]=343\n",
        "print(list)\n",
        "\n",
        "list=[]\n",
        "for i in range (101):\n",
        "  if i%10==0:\n",
        "    list.append(i)\n",
        "print(list)"
      ],
      "metadata": {
        "colab": {
          "base_uri": "https://localhost:8080/"
        },
        "id": "CfTcZP6wjqMS",
        "outputId": "c4ac4d69-9c9c-4272-bd32-55df4a51ce96"
      },
      "execution_count": null,
      "outputs": [
        {
          "output_type": "stream",
          "name": "stdout",
          "text": [
            "['A', '2', 'B', 343]\n",
            "[0, 10, 20, 30, 40, 50, 60, 70, 80, 90, 100]\n"
          ]
        }
      ]
    },
    {
      "cell_type": "code",
      "source": [
        "order1=[\"Chicken\", \"Mutton\", \"Fish\"]\n",
        "order2=[ \"PEPSI\", \"COKE\" , \"DEW\" ]\n",
        "order1. extend (order2)\n",
        "print (order1)"
      ],
      "metadata": {
        "colab": {
          "base_uri": "https://localhost:8080/"
        },
        "id": "tJezyQDEjqIr",
        "outputId": "055dff7e-c117-44f2-bad6-da78f3660f6d"
      },
      "execution_count": null,
      "outputs": [
        {
          "output_type": "stream",
          "name": "stdout",
          "text": [
            "['Chicken', 'Mutton', 'Fish', 'PEPSI', 'COKE', 'DEW']\n"
          ]
        }
      ]
    },
    {
      "cell_type": "code",
      "source": [
        "m=[10,20,10,30]\n",
        "m.remove(10)\n",
        "print(m)\n",
        "m.remove(30)\n",
        "print(m)"
      ],
      "metadata": {
        "colab": {
          "base_uri": "https://localhost:8080/"
        },
        "id": "AklmJ0eFjqFr",
        "outputId": "e4611062-591a-4b50-8608-0b89b1e3d1ea"
      },
      "execution_count": null,
      "outputs": [
        {
          "output_type": "stream",
          "name": "stdout",
          "text": [
            "[20, 10, 30]\n",
            "[20, 10]\n"
          ]
        }
      ]
    },
    {
      "cell_type": "code",
      "source": [
        "n1=[10,20,10,30]\n",
        "n2=[2,42,4,24, 2]\n",
        "res=n1+n2\n",
        "print(res)\n",
        "res = n1 * 3\n",
        "print(res)"
      ],
      "metadata": {
        "colab": {
          "base_uri": "https://localhost:8080/"
        },
        "id": "0qCnUOGMjqDX",
        "outputId": "b2412e91-5508-43a3-ef8a-55bc0d0f357c"
      },
      "execution_count": null,
      "outputs": [
        {
          "output_type": "stream",
          "name": "stdout",
          "text": [
            "[10, 20, 10, 30, 2, 42, 4, 24, 2]\n",
            "[10, 20, 10, 30, 10, 20, 10, 30, 10, 20, 10, 30]\n"
          ]
        }
      ]
    },
    {
      "cell_type": "code",
      "source": [
        "n=[10,20,10,30]\n",
        "n.remove (10)\n",
        "print(n)\n",
        "n. remove ( 30)\n",
        "n.pop()\n",
        "print(n)"
      ],
      "metadata": {
        "colab": {
          "base_uri": "https://localhost:8080/"
        },
        "id": "zhJL0ABBjqBK",
        "outputId": "e2974567-91d1-46dd-c83f-92e8a98e9d33"
      },
      "execution_count": null,
      "outputs": [
        {
          "output_type": "stream",
          "name": "stdout",
          "text": [
            "[20, 10, 30]\n",
            "[20]\n"
          ]
        }
      ]
    },
    {
      "cell_type": "code",
      "source": [
        "# Nested List\n",
        "n=[10,20, 30, [23, 56, 23]]\n",
        "print(n[0])\n",
        "print(n[2])\n",
        "print(n[3])\n",
        "print(n[3][0])"
      ],
      "metadata": {
        "colab": {
          "base_uri": "https://localhost:8080/"
        },
        "id": "K0YQstGV9K9X",
        "outputId": "11b589e4-84c0-4269-ed2c-aa942dd6b964"
      },
      "execution_count": null,
      "outputs": [
        {
          "output_type": "stream",
          "name": "stdout",
          "text": [
            "10\n",
            "30\n",
            "[23, 56, 23]\n",
            "23\n"
          ]
        }
      ]
    },
    {
      "cell_type": "code",
      "source": [
        "n=[[10,20, 30], [40, 50, 60], [70, 80, 90]]\n",
        "print(n)\n",
        "for x in n:\n",
        "  print (x)\n",
        "for i in range(len(n)):\n",
        "  for j in range(len(n[i])):\n",
        "    print(n[i][j],end=\"\")\n",
        "  print()"
      ],
      "metadata": {
        "colab": {
          "base_uri": "https://localhost:8080/"
        },
        "id": "cMEjjXXb9Kv-",
        "outputId": "265df27c-1e87-4c80-bf5d-25a1f922e237"
      },
      "execution_count": null,
      "outputs": [
        {
          "output_type": "stream",
          "name": "stdout",
          "text": [
            "[[10, 20, 30], [40, 50, 60], [70, 80, 90]]\n",
            "[10, 20, 30]\n",
            "[40, 50, 60]\n",
            "[70, 80, 90]\n",
            "102030\n",
            "405060\n",
            "708090\n"
          ]
        }
      ]
    },
    {
      "cell_type": "code",
      "source": [
        "sem = int(input(\"Enter the No. of Semester :- \"))\n",
        "sub = []\n",
        "for i in range(sem):\n",
        "  print(\"Enter the no of subject in \", i + 1, \"Semester :- \")\n",
        "  sb = int(input())\n",
        "  sub.append(sb)\n",
        "\n",
        "sma = []\n",
        "maxMarks = []\n",
        "for i in range(sem):\n",
        "  for j in range(sub[i]):\n",
        "    print(\"Enter the \", i + 1, \" semester \", j + 1,  \" subject Marks :- \")\n",
        "    sm = int(input())\n",
        "    sma.append(sm)\n",
        "print(sub)\n",
        "print(sma)\n",
        "\n",
        "count = 0\n",
        "p = 0\n",
        "for i in range(len(sub)):\n",
        "  x = sub[i]\n",
        "  count += x\n",
        "  maxi = 0\n",
        "  for j in range(p, count):\n",
        "    if j < len(sma) and sma[j] > maxi:\n",
        "      maxi = sma[j]\n",
        "  p = count\n",
        "  maxMarks.append(maxi)\n",
        "\n",
        "\n",
        "for i in range(len(maxMarks)) :\n",
        "    print(\"Maximum marks in \", i + 1, \" semester :- \", maxMarks[i])"
      ],
      "metadata": {
        "colab": {
          "base_uri": "https://localhost:8080/"
        },
        "id": "s8E-hXWW9Ksg",
        "outputId": "e3f4a5c4-cb14-4412-d362-b3a0edb8192a"
      },
      "execution_count": 3,
      "outputs": [
        {
          "output_type": "stream",
          "name": "stdout",
          "text": [
            "Enter the No. of Semester :- 3\n",
            "Enter the no of subject in  1 Semester :- \n",
            "3\n",
            "Enter the no of subject in  2 Semester :- \n",
            "3\n",
            "Enter the no of subject in  3 Semester :- \n",
            "3\n",
            "Enter the  1  semester  1  subject Marks :- \n",
            "89\n",
            "Enter the  1  semester  2  subject Marks :- \n",
            "89\n",
            "Enter the  1  semester  3  subject Marks :- \n",
            "89\n",
            "Enter the  2  semester  1  subject Marks :- \n",
            "79\n",
            "Enter the  2  semester  2  subject Marks :- \n",
            "98\n",
            "Enter the  2  semester  3  subject Marks :- \n",
            "79\n",
            "Enter the  3  semester  1  subject Marks :- \n",
            "94\n",
            "Enter the  3  semester  2  subject Marks :- \n",
            "84\n",
            "Enter the  3  semester  3  subject Marks :- \n",
            "81\n",
            "[3, 3, 3]\n",
            "[89, 89, 89, 79, 98, 79, 94, 84, 81]\n",
            "Maximum marks in  1  semester :-  89\n",
            "Maximum marks in  2  semester :-  98\n",
            "Maximum marks in  3  semester :-  94\n"
          ]
        }
      ]
    },
    {
      "cell_type": "code",
      "source": [
        "#eliminate duplicate elements from the list:\n",
        "l=[12,2,1,2,34,234,33,2,4,234,23,4,23]\n",
        "print(l)\n",
        "s=set(l)\n",
        "print(s)"
      ],
      "metadata": {
        "colab": {
          "base_uri": "https://localhost:8080/"
        },
        "id": "qTNgnked9Kop",
        "outputId": "f07de1d6-039a-4a35-8953-338926a1b6bb"
      },
      "execution_count": null,
      "outputs": [
        {
          "output_type": "stream",
          "name": "stdout",
          "text": [
            "[12, 2, 1, 2, 34, 234, 33, 2, 4, 234, 23, 4, 23]\n",
            "{1, 2, 34, 33, 4, 234, 12, 23}\n"
          ]
        }
      ]
    },
    {
      "cell_type": "code",
      "source": [
        "#dictionary:\n",
        "d={}\n",
        "d[101]=\"Shubham\"\n",
        "d[102]=\"Agrawal\"\n",
        "print(d)"
      ],
      "metadata": {
        "colab": {
          "base_uri": "https://localhost:8080/"
        },
        "id": "Gs5M7hpU9KnX",
        "outputId": "6c168784-63f0-413c-dfa3-e8faaa6b321b"
      },
      "execution_count": null,
      "outputs": [
        {
          "output_type": "stream",
          "name": "stdout",
          "text": [
            "{101: 'Shubham', 102: 'Agrawal'}\n"
          ]
        }
      ]
    },
    {
      "cell_type": "code",
      "source": [
        "d={100:'Shubham',200:'Chirag',300:'Kapil'}\n",
        "d[400]='sonu'\n",
        "print(d)\n",
        "print(d[400])"
      ],
      "metadata": {
        "colab": {
          "base_uri": "https://localhost:8080/"
        },
        "id": "SSZjug_h9Kle",
        "outputId": "327c1199-7559-4411-d109-38164bf7a6ca"
      },
      "execution_count": null,
      "outputs": [
        {
          "output_type": "stream",
          "name": "stdout",
          "text": [
            "{100: 'Shubham', 200: 'Chirag', 300: 'Kapil', 400: 'sonu'}\n",
            "sonu\n"
          ]
        }
      ]
    },
    {
      "cell_type": "code",
      "source": [
        "rec={}\n",
        "n=int(input(\"Enter no. of students: \"))\n",
        "i=1\n",
        "while i<=n:\n",
        "  name=input(\"Enter student name: \")\n",
        "  marks=input(\"Enter student marks: \")\n",
        "  rec[name]=marks\n",
        "  i+=1\n",
        "print(rec)"
      ],
      "metadata": {
        "colab": {
          "base_uri": "https://localhost:8080/"
        },
        "id": "8Vu58ZYG9KkP",
        "outputId": "5512f269-103a-43db-9bd2-38de1daac43f"
      },
      "execution_count": null,
      "outputs": [
        {
          "output_type": "stream",
          "name": "stdout",
          "text": [
            "Enter no. of students: 3\n",
            "Enter student name: Shubham\n",
            "Enter student marks: 99\n",
            "Enter student name: Chirag\n",
            "Enter student marks: 100\n",
            "Enter student name: Kapil\n",
            "Enter student marks: 100\n",
            "{'Shubham': '99', 'Chirag': '100', 'Kapil': '100'}\n"
          ]
        }
      ]
    },
    {
      "cell_type": "code",
      "source": [
        "d={100: 'ashish' ,200: 'Prashant', 300: 'sandip'}\n",
        "print(d[100])\n",
        "#print(d[400])\n",
        "print(d. get (100))\n",
        "print(d. get (400))\n",
        "print(d. get (100, \"Guest\" ))\n",
        "print(d. get (400, \"Guest\"))"
      ],
      "metadata": {
        "colab": {
          "base_uri": "https://localhost:8080/"
        },
        "id": "VPBw_zKA9KiO",
        "outputId": "55ccf22d-6b7c-4337-a1f6-66278a69f877"
      },
      "execution_count": null,
      "outputs": [
        {
          "output_type": "stream",
          "name": "stdout",
          "text": [
            "ashish\n",
            "ashish\n",
            "None\n",
            "ashish\n",
            "Guest\n"
          ]
        }
      ]
    },
    {
      "cell_type": "code",
      "source": [
        "d={100: 'ashish' ,200: 'Prashant', 300: ' sandip'}\n",
        "print(d. keys ())\n",
        "for k in d. keys():\n",
        "  print(k)"
      ],
      "metadata": {
        "colab": {
          "base_uri": "https://localhost:8080/"
        },
        "id": "1nDjUljI9Kgs",
        "outputId": "77b177ff-8d3a-424a-9092-a06164139e99"
      },
      "execution_count": null,
      "outputs": [
        {
          "output_type": "stream",
          "name": "stdout",
          "text": [
            "dict_keys([100, 200, 300])\n",
            "100\n",
            "200\n",
            "300\n"
          ]
        }
      ]
    },
    {
      "cell_type": "code",
      "source": [
        "d={100: 'ashish' ,200: 'Prashant', 300: ' sandip'}\n",
        "for k,v in d.items():\n",
        "  print(k,\"-->\",v)"
      ],
      "metadata": {
        "colab": {
          "base_uri": "https://localhost:8080/"
        },
        "id": "6E6boBxI9Kfn",
        "outputId": "f294db9e-1a67-48d1-9113-d790619a378b"
      },
      "execution_count": null,
      "outputs": [
        {
          "output_type": "stream",
          "name": "stdout",
          "text": [
            "100 --> ashish\n",
            "200 --> Prashant\n",
            "300 -->  sandip\n"
          ]
        }
      ]
    },
    {
      "cell_type": "code",
      "source": [
        "d={}\n",
        "n=int(input(\"Enter no. of students: \"))\n",
        "for i in range(n):\n",
        "  name=input(\"Enter student name: \")\n",
        "  marks=input(\"Enter student marks: \")\n",
        "  d[name]=marks\n",
        "sum=0\n",
        "for k,v in d.items():\n",
        "  sum+=int(v)\n",
        "print(sum)"
      ],
      "metadata": {
        "colab": {
          "base_uri": "https://localhost:8080/"
        },
        "id": "4Cx-KWW99Kb4",
        "outputId": "14b4061c-f708-4231-87b2-a63a999c281d"
      },
      "execution_count": null,
      "outputs": [
        {
          "output_type": "stream",
          "name": "stdout",
          "text": [
            "Enter no. of students: 3\n",
            "Enter student name: Shubham\n",
            "Enter student marks: 66\n",
            "Enter student name: Chrag\n",
            "Enter student marks: 77\n",
            "Enter student name: Kapil\n",
            "Enter student marks: 88\n",
            "231\n"
          ]
        }
      ]
    },
    {
      "cell_type": "code",
      "source": [
        "#Next larger Element\n",
        "N=4\n",
        "arr=[1,3,2,4]\n",
        "arr1=[]\n",
        "for i in range(N):\n",
        "  for j in range(i+1,N):\n",
        "    if arr[i]<arr[j]:\n",
        "      arr1.append(arr[j])\n",
        "      break\n",
        "arr1.append(-1)\n",
        "print(arr1)"
      ],
      "metadata": {
        "colab": {
          "base_uri": "https://localhost:8080/"
        },
        "id": "in7fXtLH9KZe",
        "outputId": "e15630c0-e164-4969-e4b4-6bd5c677c8bf"
      },
      "execution_count": null,
      "outputs": [
        {
          "output_type": "stream",
          "name": "stdout",
          "text": [
            "[3, 4, 4, -1]\n"
          ]
        }
      ]
    },
    {
      "cell_type": "code",
      "source": [
        "input = \"aabbbbeeeeffggg\"\n",
        "output = \"\"\n",
        "count = 1\n",
        "i = 0\n",
        "while i < len(input):\n",
        "    x = input[i]\n",
        "    for j in range(i + 1, len(input)):\n",
        "        if x == input[j]:\n",
        "            count += 1\n",
        "        else:\n",
        "            break\n",
        "    output += x + str(count)\n",
        "    i += count\n",
        "    count = 1\n",
        "print(output)"
      ],
      "metadata": {
        "colab": {
          "base_uri": "https://localhost:8080/"
        },
        "id": "XmSN0GByWLXA",
        "outputId": "81e04bc0-c439-47c6-cc82-22c02f669c7f"
      },
      "execution_count": 5,
      "outputs": [
        {
          "output_type": "stream",
          "name": "stdout",
          "text": [
            "a2b4e4f2g3\n"
          ]
        }
      ]
    },
    {
      "cell_type": "code",
      "source": [
        "#Anagram or not:\n",
        "str1=\"Listen\"\n",
        "str2=\"Silent\"\n",
        "l1=str1.lower()\n",
        "l2=str2.lower()\n",
        "if(len(l1)==len(l2)):\n",
        "   if(sorted(l1)==sorted(l2)):\n",
        "      print(\"Anagram\")\n",
        "   else:\n",
        "      print(\"Not Anagram\")\n",
        "else:\n",
        "   print(\"Not Anagram\")"
      ],
      "metadata": {
        "colab": {
          "base_uri": "https://localhost:8080/"
        },
        "id": "VGEwHTUYZ4jw",
        "outputId": "180c9091-fe9a-4f9b-a208-0c5d34e70289"
      },
      "execution_count": 4,
      "outputs": [
        {
          "output_type": "stream",
          "name": "stdout",
          "text": [
            "Anagram\n"
          ]
        }
      ]
    }
  ]
}